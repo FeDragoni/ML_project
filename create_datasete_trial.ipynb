{
 "cells": [
  {
   "cell_type": "code",
   "execution_count": 3,
   "metadata": {},
   "outputs": [],
   "source": [
    "###\n",
    "##generate dataset\n",
    "\n",
    "import numpy as np\n",
    "import pandas as pd\n",
    "import csv\n",
    "import matplotlib.pyplot as plt\n",
    "import seaborn as sns\n",
    "from scipy.integrate import trapz\n",
    "import datetime\n",
    "import sklearn.preprocessing\n",
    "from sklearn.utils import shuffle"
   ]
  },
  {
   "cell_type": "code",
   "execution_count": 19,
   "metadata": {},
   "outputs": [],
   "source": [
    "def createDevAndTest(Dataset):\n",
    "    shuffle(Dataset)\n",
    "    Our_Train = Dataset[:-200]\n",
    "    Our_Test = Dataset[-200:]\n",
    "    pd.DataFrame(Our_Train).to_csv(\"Scrivania/dataset/OUR_TRAIN.csv\",header = False)\n",
    "    pd.DataFrame(Our_Test).to_csv(\"Scrivania/dataset/OUR_TEST.csv\",header = False)\n",
    "#     print (Dev)\n",
    "#     print (Dev.shape)\n",
    "    return True"
   ]
  },
  {
   "cell_type": "code",
   "execution_count": 5,
   "metadata": {},
   "outputs": [],
   "source": [
    "def readFile(name):\n",
    "    df = pd.read_csv(name, delimiter=',', comment='#', header=None)\n",
    "#     if shuff:\n",
    "#         df = shuffle(df)\n",
    "#         df = df.reset_index(drop=True)\n",
    "    df = df.astype(float)\n",
    "    #in order to return numpy object \n",
    "    df_numpy = df.values[:,1:]\n",
    "    return df_numpy\n"
   ]
  },
  {
   "cell_type": "code",
   "execution_count": 8,
   "metadata": {},
   "outputs": [],
   "source": [
    "df = readFile('Scrivania/dataset/ML-CUP19-TR.csv')"
   ]
  },
  {
   "cell_type": "code",
   "execution_count": 10,
   "metadata": {},
   "outputs": [
    {
     "data": {
      "text/plain": [
       "(1765, 22)"
      ]
     },
     "execution_count": 10,
     "metadata": {},
     "output_type": "execute_result"
    }
   ],
   "source": [
    "df.shape\n",
    "\n"
   ]
  },
  {
   "cell_type": "code",
   "execution_count": 16,
   "metadata": {
    "scrolled": true
   },
   "outputs": [
    {
     "name": "stdout",
     "output_type": "stream",
     "text": [
      "[[ 4.03680338e-01 -1.26330528e+00 -1.40577657e+00 ...  1.22520306e+00\n",
      "   4.13091198e+00 -2.88270840e-01]\n",
      " [-9.85473912e-01  1.49528474e+00 -9.47413475e-01 ... -1.22327817e+00\n",
      "   2.94990452e+01 -4.53563461e+00]\n",
      " [-9.85463997e-01  1.27011143e+00 -1.86416681e+00 ... -1.28299810e+00\n",
      "   2.41457673e+01 -9.47412107e+00]\n",
      " ...\n",
      " [-9.22320416e-01  6.50831754e-01 -8.55756724e-01 ... -6.85793362e-01\n",
      "   2.09628541e+01 -1.24300214e+01]\n",
      " [ 5.29954542e-01 -2.47478183e-02  1.16112512e+00 ...  1.50272168e-01\n",
      "   1.56078676e+01 -1.25377311e+01]\n",
      " [-1.49063615e+00  1.21382303e+00 -6.72374032e-01 ... -1.22329099e+00\n",
      "   2.47873731e+01 -8.92276416e+00]]\n"
     ]
    },
    {
     "data": {
      "text/plain": [
       "True"
      ]
     },
     "execution_count": 16,
     "metadata": {},
     "output_type": "execute_result"
    }
   ],
   "source": [
    "createDevAndTest(df)"
   ]
  },
  {
   "cell_type": "code",
   "execution_count": 18,
   "metadata": {},
   "outputs": [
    {
     "name": "stdout",
     "output_type": "stream",
     "text": [
      "[[ 4.03680338e-01 -1.26330528e+00 -1.40577657e+00 ...  1.22520306e+00\n",
      "   4.13091198e+00 -2.88270840e-01]\n",
      " [-9.85473912e-01  1.49528474e+00 -9.47413475e-01 ... -1.22327817e+00\n",
      "   2.94990452e+01 -4.53563461e+00]\n",
      " [-9.85463997e-01  1.27011143e+00 -1.86416681e+00 ... -1.28299810e+00\n",
      "   2.41457673e+01 -9.47412107e+00]\n",
      " ...\n",
      " [-9.22320416e-01  6.50831754e-01 -8.55756724e-01 ... -6.85793362e-01\n",
      "   2.09628541e+01 -1.24300214e+01]\n",
      " [ 5.29954542e-01 -2.47478183e-02  1.16112512e+00 ...  1.50272168e-01\n",
      "   1.56078676e+01 -1.25377311e+01]\n",
      " [-1.49063615e+00  1.21382303e+00 -6.72374032e-01 ... -1.22329099e+00\n",
      "   2.47873731e+01 -8.92276416e+00]]\n",
      "(1665, 22)\n"
     ]
    },
    {
     "data": {
      "text/plain": [
       "True"
      ]
     },
     "execution_count": 18,
     "metadata": {},
     "output_type": "execute_result"
    }
   ],
   "source": [
    "createDevAndTest(df)"
   ]
  },
  {
   "cell_type": "code",
   "execution_count": 14,
   "metadata": {},
   "outputs": [
    {
     "ename": "NameError",
     "evalue": "name 'Dev' is not defined",
     "output_type": "error",
     "traceback": [
      "\u001b[0;31m---------------------------------------------------------------------------\u001b[0m",
      "\u001b[0;31mNameError\u001b[0m                                 Traceback (most recent call last)",
      "\u001b[0;32m<ipython-input-14-c4731d612a14>\u001b[0m in \u001b[0;36m<module>\u001b[0;34m\u001b[0m\n\u001b[0;32m----> 1\u001b[0;31m \u001b[0mDev\u001b[0m\u001b[0;34m\u001b[0m\u001b[0m\n\u001b[0m",
      "\u001b[0;31mNameError\u001b[0m: name 'Dev' is not defined"
     ]
    }
   ],
   "source": [
    "Dev"
   ]
  }
 ],
 "metadata": {
  "kernelspec": {
   "display_name": "Python 3",
   "language": "python",
   "name": "python3"
  },
  "language_info": {
   "codemirror_mode": {
    "name": "ipython",
    "version": 3
   },
   "file_extension": ".py",
   "mimetype": "text/x-python",
   "name": "python",
   "nbconvert_exporter": "python",
   "pygments_lexer": "ipython3",
   "version": "3.5.2"
  }
 },
 "nbformat": 4,
 "nbformat_minor": 4
}
