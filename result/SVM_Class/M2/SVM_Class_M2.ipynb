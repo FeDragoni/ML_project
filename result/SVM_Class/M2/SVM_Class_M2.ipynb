{
 "cells": [
  {
   "cell_type": "code",
   "execution_count": 1,
   "metadata": {},
   "outputs": [],
   "source": [
    "import pandas as pd\n",
    "import numpy as np\n",
    "from matplotlib import gridspec\n",
    "import math\n",
    "import seaborn as sns"
   ]
  },
  {
   "cell_type": "code",
   "execution_count": 8,
   "metadata": {},
   "outputs": [],
   "source": [
    "df = pd.read_csv(\"/home/federico/Scrivania/ML_1/ML_project/result/RF_Class/M2/M2_RF_GS_run5.csv\")"
   ]
  },
  {
   "cell_type": "code",
   "execution_count": 9,
   "metadata": {},
   "outputs": [
    {
     "data": {
      "image/png": "[encoded data removed]",
      "text/plain": [
       "<Figure size 432x288 with 2 Axes>"
      ]
     },
     "metadata": {
      "needs_background": "light"
     },
     "output_type": "display_data"
    }
   ],
   "source": [
    "df_new= df.drop(['Index'], axis=1)\n",
    "df_new.sort_values(\"Score\")\n",
    "df_new = df_new.sort_values(by = [\"max_features\", \"n_estimators\"])\n",
    "df_new = df_new.round(3)  ## approssima i dati a tot cifre decimali\n",
    "# reset_index\n",
    "df_new = df_new.drop_duplicates(['max_features','n_estimators'])\n",
    "\n",
    "dfp = df_new.pivot(index = \"max_features\", columns= \"n_estimators\", values = \"Score\")  #Return reshaped DataFrame \n",
    "                                                                       #organized by given index / column values.\n",
    "ax = sns.heatmap(dfp, cmap=\"binary\" )"
   ]
  }
 ],
 "metadata": {
  "kernelspec": {
   "display_name": "Python 3.5.2 64-bit ('venv': virtualenv)",
   "language": "python",
   "name": "python35264bitvenvvirtualenvca98571474564df890c7001dcf5b63ef"
  },
  "language_info": {
   "codemirror_mode": {
    "name": "ipython",
    "version": 3
   },
   "file_extension": ".py",
   "mimetype": "text/x-python",
   "name": "python",
   "nbconvert_exporter": "python",
   "pygments_lexer": "ipython3",
   "version": "3.5.2"
  }
 },
 "nbformat": 4,
 "nbformat_minor": 4
}
